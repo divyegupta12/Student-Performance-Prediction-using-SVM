{
  "nbformat": 4,
  "nbformat_minor": 0,
  "metadata": {
    "colab": {
      "name": "MnS project.ipynb",
      "provenance": []
    },
    "kernelspec": {
      "name": "python3",
      "display_name": "Python 3"
    },
    "language_info": {
      "name": "python"
    }
  },
  "cells": [
    {
      "cell_type": "markdown",
      "metadata": {
        "id": "uVjasTwk2wCl"
      },
      "source": [
        "# Importing data"
      ]
    },
    {
      "cell_type": "code",
      "metadata": {
        "id": "kWFc6M1D24j3"
      },
      "source": [
        "import numpy as np\n",
        "import pandas as pd\n",
        "import seaborn as sns\n",
        "import matplotlib.pyplot as plt\n",
        "from sklearn.svm import SVC\n",
        "from sklearn.model_selection import train_test_split,GridSearchCV\n",
        "from sklearn.metrics import confusion_matrix, roc_curve, accuracy_score, f1_score, roc_auc_score, classification_report\n",
        "from sklearn.metrics import roc_auc_score, mean_squared_error\n",
        "\n",
        "df = pd.read_csv('student-por2.csv')"
      ],
      "execution_count": null,
      "outputs": []
    },
    {
      "cell_type": "markdown",
      "metadata": {
        "id": "lEGBfLLw3N8Z"
      },
      "source": [
        "# Encoding and Feature Scaling"
      ]
    },
    {
      "cell_type": "code",
      "metadata": {
        "id": "cAFz6cr53jS3"
      },
      "source": [
        "def numerical_data():\n",
        "    df['school'] = df['school'].map({'GP': 0, 'MS': 1})\n",
        "    df['sex'] = df['sex'].map({'M': 0, 'F': 1})\n",
        "    df['address'] = df['address'].map({'U': 0, 'R': 1})\n",
        "    df['famsize'] = df['famsize'].map({'LE3': 0, 'GT3': 1})\n",
        "    df['Pstatus'] = df['Pstatus'].map({'T': 0, 'A': 1})\n",
        "    df['Mjob'] = df['Mjob'].map({'teacher': 0, 'health': 1, 'services': 2, 'at_home': 3, 'other': 4})\n",
        "    df['Fjob'] = df['Fjob'].map({'teacher': 0, 'health': 1, 'services': 2, 'at_home': 3, 'other': 4})\n",
        "    df['reason'] = df['reason'].map({'home': 0, 'reputation': 1, 'course': 2, 'other': 3})\n",
        "    df['guardian'] = df['guardian'].map({'mother': 0, 'father': 1, 'other': 2})\n",
        "    df['schoolsup'] = df['schoolsup'].map({'no': 0, 'yes': 1})\n",
        "    df['famsup'] = df['famsup'].map({'no': 0, 'yes': 1})\n",
        "    df['paid'] = df['paid'].map({'no': 0, 'yes': 1})\n",
        "    df['activities'] = df['activities'].map({'no': 0, 'yes': 1})\n",
        "    df['nursery'] = df['nursery'].map({'no': 0, 'yes': 1})\n",
        "    df['higher'] = df['higher'].map({'no': 0, 'yes': 1})\n",
        "    df['internet'] = df['internet'].map({'no': 0, 'yes': 1})\n",
        "    df['romantic'] = df['romantic'].map({'no': 0, 'yes' : 1})\n",
        "    df['needshelp'] = df['needshelp'].map({'no': 0, 'yes': 1})\n",
        "    \n",
        "    col = df['needshelp']\n",
        "    del df['needshelp']\n",
        "    df['needshelp'] = col"
      ],
      "execution_count": null,
      "outputs": []
    },
    {
      "cell_type": "code",
      "metadata": {
        "id": "O6jiMxuT72Rh"
      },
      "source": [
        "numerical_data()"
      ],
      "execution_count": null,
      "outputs": []
    },
    {
      "cell_type": "code",
      "metadata": {
        "id": "BcCa7C_i3uYR"
      },
      "source": [
        "def feature_scaling(df):\n",
        "    for i in df:\n",
        "        col = df[i]\n",
        "\n",
        "        if(np.max(col)>6):\n",
        "            Max = max(col)\n",
        "            Min = min(col)\n",
        "            mean = np.mean(col)\n",
        "            col  = (col-mean)/(Max)\n",
        "            df[i] = col\n",
        "        elif(np.max(col)<6):\n",
        "            col = (col-np.min(col))\n",
        "            col /= np.max(col)\n",
        "            df[i] = col"
      ],
      "execution_count": null,
      "outputs": []
    },
    {
      "cell_type": "code",
      "metadata": {
        "id": "NCwfhw9Q6lnq"
      },
      "source": [
        "feature_scaling(df)\n",
        "df"
      ],
      "execution_count": null,
      "outputs": []
    },
    {
      "cell_type": "markdown",
      "metadata": {
        "id": "pa6j_sd1_JhS"
      },
      "source": [
        "# Splitting data"
      ]
    },
    {
      "cell_type": "code",
      "metadata": {
        "id": "Ut9K-aySL59p"
      },
      "source": [
        "from sklearn.model_selection import train_test_split\n",
        "X = df.iloc[:, :-1].values\n",
        "y = df.iloc[:, -1].values\n",
        "X_train,X_rest,y_train,y_rest = train_test_split(X,y,test_size=0.4,random_state=388628375)\n",
        "X_val,X_test,y_val,y_test = train_test_split(X_rest,y_rest,test_size=0.4,random_state=388628375)"
      ],
      "execution_count": null,
      "outputs": []
    },
    {
      "cell_type": "markdown",
      "metadata": {
        "id": "4ixWSMk6SQCq"
      },
      "source": [
        "# Optimal C value"
      ]
    },
    {
      "cell_type": "code",
      "metadata": {
        "id": "-WCg8vgsSUbb"
      },
      "source": [
        "def optimal_C_value():\n",
        "    Ci = np.array(( 0.0001,0.001,0.01,0.05,0.1,4,10,40,100))\n",
        "    minError = float('Inf')\n",
        "    optimal_C = float('Inf')\n",
        "\n",
        "    for c in Ci:\n",
        "        clf = SVC(C=c,kernel='linear')\n",
        "        clf.fit(X_train, y_train)\n",
        "        predictions = clf.predict(X_val)\n",
        "        error = np.mean(np.double(predictions != y_val))\n",
        "        if error < minError:\n",
        "            minError = error\n",
        "            optimal_C = c\n",
        "    return optimal_C"
      ],
      "execution_count": null,
      "outputs": []
    },
    {
      "cell_type": "markdown",
      "metadata": {
        "id": "IdYpz2pmMpEj"
      },
      "source": [
        "# Training SVM model"
      ]
    },
    {
      "cell_type": "code",
      "metadata": {
        "id": "LpEe8YTBMv_c"
      },
      "source": [
        "from sklearn.svm import SVC\n",
        "optimal_C = optimal_C_value()\n",
        "classifier = SVC(C=optimal_C ,kernel = 'linear')\n",
        "classifier.fit(X_train, y_train)"
      ],
      "execution_count": null,
      "outputs": []
    },
    {
      "cell_type": "code",
      "metadata": {
        "id": "caOhB8hWOauY"
      },
      "source": [
        "y_test[6]"
      ],
      "execution_count": null,
      "outputs": []
    },
    {
      "cell_type": "markdown",
      "metadata": {
        "id": "CDtwJw25M2HC"
      },
      "source": [
        "# Predicting a random result"
      ]
    },
    {
      "cell_type": "code",
      "metadata": {
        "id": "23s9qYU7NE_q"
      },
      "source": [
        "print(classifier.predict(X_test[[6],:]))"
      ],
      "execution_count": null,
      "outputs": []
    },
    {
      "cell_type": "markdown",
      "metadata": {
        "id": "gP5ENvEeQgCn"
      },
      "source": [
        "# Predicting Test Set"
      ]
    },
    {
      "cell_type": "code",
      "metadata": {
        "id": "sT0Rn4gmQlF_"
      },
      "source": [
        "y_pred = classifier.predict(X_test)\n",
        "print(np.concatenate((y_pred.reshape(len(y_pred),1), y_test.reshape(len(y_test),1)),1))"
      ],
      "execution_count": null,
      "outputs": []
    },
    {
      "cell_type": "code",
      "metadata": {
        "id": "ZmKxcPUSQ7OM"
      },
      "source": [
        "accuracy_score(y_test, y_pred)*100"
      ],
      "execution_count": null,
      "outputs": []
    },
    {
      "cell_type": "code",
      "metadata": {
        "id": "_VDPjfS63VRj"
      },
      "source": [
        "mean_squared_error(y_test,y_pred)"
      ],
      "execution_count": null,
      "outputs": []
    }
  ]
}